{
 "cells": [
  {
   "cell_type": "markdown",
   "metadata": {},
   "source": [
    "- Revenue => class whether it can make a revenue or not\n",
    "- Administrative, Administrative Duration, Informational, Informational Duration, Product Related and Product Related - Duration => represent the number of different types of pages visited by the visitor in that session and total time spent in each of these page categories.\n",
    "- Bounce Rate => percentage of visitors who enter the site from that page and then leave (“bounce”) without triggering any other requests to the analytics server during that session\n",
    "- Exit Rate => the percentage that were the last in the session\n",
    "- Page Value => feature represents the average value for a web page that a user visited before completing an e-commerce transaction\n",
    "- Special Day => indicates the closeness of the site visiting time to a specific special day (e.g. Mother’s Day, Valentine’s Day) in which the sessions are more likely to be finalized with transaction. For example, for Valentina’s day, this value takes a nonzero value between February 2 and February 12, zero,before and after this date unless it is close to another special day, and its maximum value of 1 on February 8\n",
    "- Operating system,browser, region, traffic type => Different types of operating systems, browser, region and traffic type used to visit the website\n",
    "- Visitor type => Whether the customer is a returning or new visitor\n",
    "- Weekend => A Boolean value indicating whether the date of the visit is weekend\n",
    "- Month => Month of the year."
   ]
  },
  {
   "cell_type": "code",
   "execution_count": 1,
   "metadata": {},
   "outputs": [],
   "source": [
    "import pandas as pd\n",
    "import numpy as np\n",
    "import matplotlib.pyplot as plt\n",
    "import seaborn as sns\n",
    "import scipy.stats as stats"
   ]
  },
  {
   "cell_type": "code",
   "execution_count": 2,
   "metadata": {},
   "outputs": [],
   "source": [
    "df = pd.read_csv('online_shoppers_intention.csv')"
   ]
  },
  {
   "cell_type": "code",
   "execution_count": 3,
   "metadata": {
    "scrolled": true
   },
   "outputs": [
    {
     "data": {
      "text/plain": [
       "False    10422\n",
       "True      1908\n",
       "Name: Revenue, dtype: int64"
      ]
     },
     "execution_count": 3,
     "metadata": {},
     "output_type": "execute_result"
    }
   ],
   "source": [
    "df.Revenue.value_counts()"
   ]
  },
  {
   "cell_type": "markdown",
   "metadata": {},
   "source": [
    "    There is a huge imbalance in sampling, so definitely will need to upsample"
   ]
  },
  {
   "cell_type": "code",
   "execution_count": 4,
   "metadata": {},
   "outputs": [
    {
     "data": {
      "text/plain": [
       "Administrative             14\n",
       "Administrative_Duration    14\n",
       "Informational              14\n",
       "Informational_Duration     14\n",
       "ProductRelated             14\n",
       "ProductRelated_Duration    14\n",
       "BounceRates                14\n",
       "ExitRates                  14\n",
       "PageValues                  0\n",
       "SpecialDay                  0\n",
       "Month                       0\n",
       "OperatingSystems            0\n",
       "Browser                     0\n",
       "Region                      0\n",
       "TrafficType                 0\n",
       "VisitorType                 0\n",
       "Weekend                     0\n",
       "Revenue                     0\n",
       "dtype: int64"
      ]
     },
     "execution_count": 4,
     "metadata": {},
     "output_type": "execute_result"
    }
   ],
   "source": [
    "df.isna().sum()"
   ]
  },
  {
   "cell_type": "code",
   "execution_count": 5,
   "metadata": {
    "scrolled": true
   },
   "outputs": [],
   "source": [
    "df = df.fillna(0)"
   ]
  },
  {
   "cell_type": "code",
   "execution_count": 6,
   "metadata": {},
   "outputs": [
    {
     "data": {
      "text/plain": [
       "(12330, 18)"
      ]
     },
     "execution_count": 6,
     "metadata": {},
     "output_type": "execute_result"
    }
   ],
   "source": [
    "df.shape"
   ]
  },
  {
   "cell_type": "code",
   "execution_count": 7,
   "metadata": {},
   "outputs": [
    {
     "data": {
      "text/plain": [
       "(12330, 18)"
      ]
     },
     "execution_count": 7,
     "metadata": {},
     "output_type": "execute_result"
    }
   ],
   "source": [
    "df.dropna(inplace=True)\n",
    "df.shape"
   ]
  },
  {
   "cell_type": "code",
   "execution_count": 8,
   "metadata": {},
   "outputs": [
    {
     "data": {
      "text/plain": [
       "-0.20634176051202527"
      ]
     },
     "execution_count": 8,
     "metadata": {},
     "output_type": "execute_result"
    }
   ],
   "source": [
    "df['ExitRates'].corr(df['Revenue'])"
   ]
  },
  {
   "cell_type": "code",
   "execution_count": 9,
   "metadata": {
    "scrolled": true
   },
   "outputs": [
    {
     "data": {
      "text/html": [
       "<div>\n",
       "<style scoped>\n",
       "    .dataframe tbody tr th:only-of-type {\n",
       "        vertical-align: middle;\n",
       "    }\n",
       "\n",
       "    .dataframe tbody tr th {\n",
       "        vertical-align: top;\n",
       "    }\n",
       "\n",
       "    .dataframe thead th {\n",
       "        text-align: right;\n",
       "    }\n",
       "</style>\n",
       "<table border=\"1\" class=\"dataframe\">\n",
       "  <thead>\n",
       "    <tr style=\"text-align: right;\">\n",
       "      <th></th>\n",
       "      <th>Administrative</th>\n",
       "      <th>Administrative_Duration</th>\n",
       "      <th>Informational</th>\n",
       "      <th>Informational_Duration</th>\n",
       "      <th>ProductRelated</th>\n",
       "      <th>ProductRelated_Duration</th>\n",
       "      <th>BounceRates</th>\n",
       "      <th>ExitRates</th>\n",
       "      <th>PageValues</th>\n",
       "      <th>SpecialDay</th>\n",
       "      <th>Month</th>\n",
       "      <th>OperatingSystems</th>\n",
       "      <th>Browser</th>\n",
       "      <th>Region</th>\n",
       "      <th>TrafficType</th>\n",
       "      <th>VisitorType</th>\n",
       "      <th>Weekend</th>\n",
       "      <th>Revenue</th>\n",
       "    </tr>\n",
       "  </thead>\n",
       "  <tbody>\n",
       "    <tr>\n",
       "      <td>0</td>\n",
       "      <td>0.0</td>\n",
       "      <td>0.0</td>\n",
       "      <td>0.0</td>\n",
       "      <td>0.0</td>\n",
       "      <td>1.0</td>\n",
       "      <td>0.000000</td>\n",
       "      <td>0.20</td>\n",
       "      <td>0.20</td>\n",
       "      <td>0.0</td>\n",
       "      <td>0.0</td>\n",
       "      <td>Feb</td>\n",
       "      <td>1</td>\n",
       "      <td>1</td>\n",
       "      <td>1</td>\n",
       "      <td>1</td>\n",
       "      <td>Returning_Visitor</td>\n",
       "      <td>False</td>\n",
       "      <td>False</td>\n",
       "    </tr>\n",
       "    <tr>\n",
       "      <td>1</td>\n",
       "      <td>0.0</td>\n",
       "      <td>0.0</td>\n",
       "      <td>0.0</td>\n",
       "      <td>0.0</td>\n",
       "      <td>2.0</td>\n",
       "      <td>64.000000</td>\n",
       "      <td>0.00</td>\n",
       "      <td>0.10</td>\n",
       "      <td>0.0</td>\n",
       "      <td>0.0</td>\n",
       "      <td>Feb</td>\n",
       "      <td>2</td>\n",
       "      <td>2</td>\n",
       "      <td>1</td>\n",
       "      <td>2</td>\n",
       "      <td>Returning_Visitor</td>\n",
       "      <td>False</td>\n",
       "      <td>False</td>\n",
       "    </tr>\n",
       "    <tr>\n",
       "      <td>2</td>\n",
       "      <td>0.0</td>\n",
       "      <td>-1.0</td>\n",
       "      <td>0.0</td>\n",
       "      <td>-1.0</td>\n",
       "      <td>1.0</td>\n",
       "      <td>-1.000000</td>\n",
       "      <td>0.20</td>\n",
       "      <td>0.20</td>\n",
       "      <td>0.0</td>\n",
       "      <td>0.0</td>\n",
       "      <td>Feb</td>\n",
       "      <td>4</td>\n",
       "      <td>1</td>\n",
       "      <td>9</td>\n",
       "      <td>3</td>\n",
       "      <td>Returning_Visitor</td>\n",
       "      <td>False</td>\n",
       "      <td>False</td>\n",
       "    </tr>\n",
       "    <tr>\n",
       "      <td>3</td>\n",
       "      <td>0.0</td>\n",
       "      <td>0.0</td>\n",
       "      <td>0.0</td>\n",
       "      <td>0.0</td>\n",
       "      <td>2.0</td>\n",
       "      <td>2.666667</td>\n",
       "      <td>0.05</td>\n",
       "      <td>0.14</td>\n",
       "      <td>0.0</td>\n",
       "      <td>0.0</td>\n",
       "      <td>Feb</td>\n",
       "      <td>3</td>\n",
       "      <td>2</td>\n",
       "      <td>2</td>\n",
       "      <td>4</td>\n",
       "      <td>Returning_Visitor</td>\n",
       "      <td>False</td>\n",
       "      <td>False</td>\n",
       "    </tr>\n",
       "    <tr>\n",
       "      <td>4</td>\n",
       "      <td>0.0</td>\n",
       "      <td>0.0</td>\n",
       "      <td>0.0</td>\n",
       "      <td>0.0</td>\n",
       "      <td>10.0</td>\n",
       "      <td>627.500000</td>\n",
       "      <td>0.02</td>\n",
       "      <td>0.05</td>\n",
       "      <td>0.0</td>\n",
       "      <td>0.0</td>\n",
       "      <td>Feb</td>\n",
       "      <td>3</td>\n",
       "      <td>3</td>\n",
       "      <td>1</td>\n",
       "      <td>4</td>\n",
       "      <td>Returning_Visitor</td>\n",
       "      <td>True</td>\n",
       "      <td>False</td>\n",
       "    </tr>\n",
       "  </tbody>\n",
       "</table>\n",
       "</div>"
      ],
      "text/plain": [
       "   Administrative  Administrative_Duration  Informational  \\\n",
       "0             0.0                      0.0            0.0   \n",
       "1             0.0                      0.0            0.0   \n",
       "2             0.0                     -1.0            0.0   \n",
       "3             0.0                      0.0            0.0   \n",
       "4             0.0                      0.0            0.0   \n",
       "\n",
       "   Informational_Duration  ProductRelated  ProductRelated_Duration  \\\n",
       "0                     0.0             1.0                 0.000000   \n",
       "1                     0.0             2.0                64.000000   \n",
       "2                    -1.0             1.0                -1.000000   \n",
       "3                     0.0             2.0                 2.666667   \n",
       "4                     0.0            10.0               627.500000   \n",
       "\n",
       "   BounceRates  ExitRates  PageValues  SpecialDay Month  OperatingSystems  \\\n",
       "0         0.20       0.20         0.0         0.0   Feb                 1   \n",
       "1         0.00       0.10         0.0         0.0   Feb                 2   \n",
       "2         0.20       0.20         0.0         0.0   Feb                 4   \n",
       "3         0.05       0.14         0.0         0.0   Feb                 3   \n",
       "4         0.02       0.05         0.0         0.0   Feb                 3   \n",
       "\n",
       "   Browser  Region  TrafficType        VisitorType  Weekend  Revenue  \n",
       "0        1       1            1  Returning_Visitor    False    False  \n",
       "1        2       1            2  Returning_Visitor    False    False  \n",
       "2        1       9            3  Returning_Visitor    False    False  \n",
       "3        2       2            4  Returning_Visitor    False    False  \n",
       "4        3       1            4  Returning_Visitor     True    False  "
      ]
     },
     "execution_count": 9,
     "metadata": {},
     "output_type": "execute_result"
    }
   ],
   "source": [
    "df.head()"
   ]
  },
  {
   "cell_type": "code",
   "execution_count": 10,
   "metadata": {},
   "outputs": [
    {
     "data": {
      "text/plain": [
       "count    12330.000000\n",
       "mean         0.042954\n",
       "std          0.048521\n",
       "min          0.000000\n",
       "25%          0.014286\n",
       "50%          0.025044\n",
       "75%          0.050000\n",
       "max          0.200000\n",
       "Name: ExitRates, dtype: float64"
      ]
     },
     "execution_count": 10,
     "metadata": {},
     "output_type": "execute_result"
    }
   ],
   "source": [
    "df.ExitRates.describe()"
   ]
  },
  {
   "cell_type": "code",
   "execution_count": 11,
   "metadata": {},
   "outputs": [],
   "source": [
    "df['Administrative_Duration'] = np.where(df['Administrative_Duration']==-1, 0, df['Administrative_Duration'])"
   ]
  },
  {
   "cell_type": "code",
   "execution_count": 12,
   "metadata": {},
   "outputs": [
    {
     "data": {
      "text/plain": [
       "(12330, 18)"
      ]
     },
     "execution_count": 12,
     "metadata": {},
     "output_type": "execute_result"
    }
   ],
   "source": [
    "df.shape"
   ]
  },
  {
   "cell_type": "code",
   "execution_count": 13,
   "metadata": {},
   "outputs": [
    {
     "name": "stdout",
     "output_type": "stream",
     "text": [
      "<class 'pandas.core.frame.DataFrame'>\n",
      "Int64Index: 12330 entries, 0 to 12329\n",
      "Data columns (total 18 columns):\n",
      "Administrative             12330 non-null float64\n",
      "Administrative_Duration    12330 non-null float64\n",
      "Informational              12330 non-null float64\n",
      "Informational_Duration     12330 non-null float64\n",
      "ProductRelated             12330 non-null float64\n",
      "ProductRelated_Duration    12330 non-null float64\n",
      "BounceRates                12330 non-null float64\n",
      "ExitRates                  12330 non-null float64\n",
      "PageValues                 12330 non-null float64\n",
      "SpecialDay                 12330 non-null float64\n",
      "Month                      12330 non-null object\n",
      "OperatingSystems           12330 non-null int64\n",
      "Browser                    12330 non-null int64\n",
      "Region                     12330 non-null int64\n",
      "TrafficType                12330 non-null int64\n",
      "VisitorType                12330 non-null object\n",
      "Weekend                    12330 non-null bool\n",
      "Revenue                    12330 non-null bool\n",
      "dtypes: bool(2), float64(10), int64(4), object(2)\n",
      "memory usage: 1.6+ MB\n"
     ]
    }
   ],
   "source": [
    "df.info()"
   ]
  },
  {
   "cell_type": "code",
   "execution_count": 14,
   "metadata": {},
   "outputs": [
    {
     "data": {
      "text/plain": [
       "False    69\n",
       "True     16\n",
       "Name: Revenue, dtype: int64"
      ]
     },
     "execution_count": 14,
     "metadata": {},
     "output_type": "execute_result"
    }
   ],
   "source": [
    "df[df['VisitorType']=='Other'].Revenue.value_counts()"
   ]
  },
  {
   "cell_type": "code",
   "execution_count": 15,
   "metadata": {},
   "outputs": [],
   "source": [
    "# df = df.where('VisitorType'=='Returning_Visitor', 1, df['VisitorType'])"
   ]
  },
  {
   "cell_type": "code",
   "execution_count": 16,
   "metadata": {},
   "outputs": [
    {
     "data": {
      "text/plain": [
       "PageValues  Revenue\n",
       "0.000000    False      9230\n",
       "            True        370\n",
       "0.038035    False         1\n",
       "0.067050    True          1\n",
       "0.093547    True          1\n",
       "                       ... \n",
       "261.491286  True          1\n",
       "270.784693  True          1\n",
       "287.953793  True          1\n",
       "360.953384  True          1\n",
       "361.763742  True          1\n",
       "Name: Revenue, Length: 2710, dtype: int64"
      ]
     },
     "execution_count": 16,
     "metadata": {},
     "output_type": "execute_result"
    }
   ],
   "source": [
    "df.groupby(['PageValues']).Revenue.value_counts()"
   ]
  },
  {
   "cell_type": "code",
   "execution_count": 17,
   "metadata": {},
   "outputs": [],
   "source": [
    "page = df[df['PageValues']>0]"
   ]
  },
  {
   "cell_type": "code",
   "execution_count": 18,
   "metadata": {},
   "outputs": [
    {
     "data": {
      "text/html": [
       "<div>\n",
       "<style scoped>\n",
       "    .dataframe tbody tr th:only-of-type {\n",
       "        vertical-align: middle;\n",
       "    }\n",
       "\n",
       "    .dataframe tbody tr th {\n",
       "        vertical-align: top;\n",
       "    }\n",
       "\n",
       "    .dataframe thead th {\n",
       "        text-align: right;\n",
       "    }\n",
       "</style>\n",
       "<table border=\"1\" class=\"dataframe\">\n",
       "  <thead>\n",
       "    <tr style=\"text-align: right;\">\n",
       "      <th></th>\n",
       "      <th>Administrative</th>\n",
       "      <th>Administrative_Duration</th>\n",
       "      <th>Informational</th>\n",
       "      <th>Informational_Duration</th>\n",
       "      <th>ProductRelated</th>\n",
       "      <th>ProductRelated_Duration</th>\n",
       "      <th>BounceRates</th>\n",
       "      <th>ExitRates</th>\n",
       "      <th>PageValues</th>\n",
       "      <th>SpecialDay</th>\n",
       "      <th>Month</th>\n",
       "      <th>OperatingSystems</th>\n",
       "      <th>Browser</th>\n",
       "      <th>Region</th>\n",
       "      <th>TrafficType</th>\n",
       "      <th>VisitorType</th>\n",
       "      <th>Weekend</th>\n",
       "      <th>Revenue</th>\n",
       "    </tr>\n",
       "  </thead>\n",
       "  <tbody>\n",
       "    <tr>\n",
       "      <td>29</td>\n",
       "      <td>1.0</td>\n",
       "      <td>6.000000</td>\n",
       "      <td>1.0</td>\n",
       "      <td>0.00</td>\n",
       "      <td>45.0</td>\n",
       "      <td>1582.750000</td>\n",
       "      <td>0.043478</td>\n",
       "      <td>0.050821</td>\n",
       "      <td>54.179764</td>\n",
       "      <td>0.4</td>\n",
       "      <td>Feb</td>\n",
       "      <td>3</td>\n",
       "      <td>2</td>\n",
       "      <td>1</td>\n",
       "      <td>1</td>\n",
       "      <td>Returning_Visitor</td>\n",
       "      <td>False</td>\n",
       "      <td>False</td>\n",
       "    </tr>\n",
       "    <tr>\n",
       "      <td>57</td>\n",
       "      <td>4.0</td>\n",
       "      <td>56.000000</td>\n",
       "      <td>2.0</td>\n",
       "      <td>120.00</td>\n",
       "      <td>36.0</td>\n",
       "      <td>998.741667</td>\n",
       "      <td>0.000000</td>\n",
       "      <td>0.014736</td>\n",
       "      <td>19.447079</td>\n",
       "      <td>0.2</td>\n",
       "      <td>Feb</td>\n",
       "      <td>2</td>\n",
       "      <td>2</td>\n",
       "      <td>4</td>\n",
       "      <td>1</td>\n",
       "      <td>Returning_Visitor</td>\n",
       "      <td>False</td>\n",
       "      <td>False</td>\n",
       "    </tr>\n",
       "    <tr>\n",
       "      <td>62</td>\n",
       "      <td>12.0</td>\n",
       "      <td>279.416667</td>\n",
       "      <td>0.0</td>\n",
       "      <td>0.00</td>\n",
       "      <td>42.0</td>\n",
       "      <td>1553.583333</td>\n",
       "      <td>0.009000</td>\n",
       "      <td>0.019667</td>\n",
       "      <td>38.308493</td>\n",
       "      <td>0.0</td>\n",
       "      <td>Feb</td>\n",
       "      <td>1</td>\n",
       "      <td>1</td>\n",
       "      <td>3</td>\n",
       "      <td>2</td>\n",
       "      <td>Returning_Visitor</td>\n",
       "      <td>False</td>\n",
       "      <td>False</td>\n",
       "    </tr>\n",
       "    <tr>\n",
       "      <td>65</td>\n",
       "      <td>3.0</td>\n",
       "      <td>87.833333</td>\n",
       "      <td>0.0</td>\n",
       "      <td>0.00</td>\n",
       "      <td>27.0</td>\n",
       "      <td>798.333333</td>\n",
       "      <td>0.000000</td>\n",
       "      <td>0.012644</td>\n",
       "      <td>22.916036</td>\n",
       "      <td>0.8</td>\n",
       "      <td>Feb</td>\n",
       "      <td>2</td>\n",
       "      <td>2</td>\n",
       "      <td>3</td>\n",
       "      <td>1</td>\n",
       "      <td>Returning_Visitor</td>\n",
       "      <td>False</td>\n",
       "      <td>True</td>\n",
       "    </tr>\n",
       "    <tr>\n",
       "      <td>76</td>\n",
       "      <td>10.0</td>\n",
       "      <td>1005.666667</td>\n",
       "      <td>0.0</td>\n",
       "      <td>0.00</td>\n",
       "      <td>36.0</td>\n",
       "      <td>2111.341667</td>\n",
       "      <td>0.004348</td>\n",
       "      <td>0.014493</td>\n",
       "      <td>11.439412</td>\n",
       "      <td>0.0</td>\n",
       "      <td>Feb</td>\n",
       "      <td>2</td>\n",
       "      <td>6</td>\n",
       "      <td>1</td>\n",
       "      <td>2</td>\n",
       "      <td>Returning_Visitor</td>\n",
       "      <td>False</td>\n",
       "      <td>True</td>\n",
       "    </tr>\n",
       "    <tr>\n",
       "      <td>...</td>\n",
       "      <td>...</td>\n",
       "      <td>...</td>\n",
       "      <td>...</td>\n",
       "      <td>...</td>\n",
       "      <td>...</td>\n",
       "      <td>...</td>\n",
       "      <td>...</td>\n",
       "      <td>...</td>\n",
       "      <td>...</td>\n",
       "      <td>...</td>\n",
       "      <td>...</td>\n",
       "      <td>...</td>\n",
       "      <td>...</td>\n",
       "      <td>...</td>\n",
       "      <td>...</td>\n",
       "      <td>...</td>\n",
       "      <td>...</td>\n",
       "      <td>...</td>\n",
       "    </tr>\n",
       "    <tr>\n",
       "      <td>12307</td>\n",
       "      <td>2.0</td>\n",
       "      <td>305.125000</td>\n",
       "      <td>3.0</td>\n",
       "      <td>368.25</td>\n",
       "      <td>27.0</td>\n",
       "      <td>1121.250000</td>\n",
       "      <td>0.020000</td>\n",
       "      <td>0.042857</td>\n",
       "      <td>39.519807</td>\n",
       "      <td>0.0</td>\n",
       "      <td>Dec</td>\n",
       "      <td>3</td>\n",
       "      <td>2</td>\n",
       "      <td>1</td>\n",
       "      <td>2</td>\n",
       "      <td>Returning_Visitor</td>\n",
       "      <td>False</td>\n",
       "      <td>False</td>\n",
       "    </tr>\n",
       "    <tr>\n",
       "      <td>12312</td>\n",
       "      <td>7.0</td>\n",
       "      <td>150.357143</td>\n",
       "      <td>1.0</td>\n",
       "      <td>9.00</td>\n",
       "      <td>221.0</td>\n",
       "      <td>11431.001240</td>\n",
       "      <td>0.011149</td>\n",
       "      <td>0.021904</td>\n",
       "      <td>1.582473</td>\n",
       "      <td>0.0</td>\n",
       "      <td>Nov</td>\n",
       "      <td>2</td>\n",
       "      <td>5</td>\n",
       "      <td>1</td>\n",
       "      <td>2</td>\n",
       "      <td>Returning_Visitor</td>\n",
       "      <td>True</td>\n",
       "      <td>True</td>\n",
       "    </tr>\n",
       "    <tr>\n",
       "      <td>12313</td>\n",
       "      <td>3.0</td>\n",
       "      <td>16.000000</td>\n",
       "      <td>3.0</td>\n",
       "      <td>86.00</td>\n",
       "      <td>15.0</td>\n",
       "      <td>2773.500000</td>\n",
       "      <td>0.000000</td>\n",
       "      <td>0.030000</td>\n",
       "      <td>78.811725</td>\n",
       "      <td>0.0</td>\n",
       "      <td>Dec</td>\n",
       "      <td>2</td>\n",
       "      <td>2</td>\n",
       "      <td>1</td>\n",
       "      <td>2</td>\n",
       "      <td>Returning_Visitor</td>\n",
       "      <td>False</td>\n",
       "      <td>True</td>\n",
       "    </tr>\n",
       "    <tr>\n",
       "      <td>12319</td>\n",
       "      <td>0.0</td>\n",
       "      <td>0.000000</td>\n",
       "      <td>0.0</td>\n",
       "      <td>0.00</td>\n",
       "      <td>21.0</td>\n",
       "      <td>1128.583333</td>\n",
       "      <td>0.000000</td>\n",
       "      <td>0.013043</td>\n",
       "      <td>3.685401</td>\n",
       "      <td>0.0</td>\n",
       "      <td>Dec</td>\n",
       "      <td>2</td>\n",
       "      <td>2</td>\n",
       "      <td>1</td>\n",
       "      <td>2</td>\n",
       "      <td>Returning_Visitor</td>\n",
       "      <td>False</td>\n",
       "      <td>False</td>\n",
       "    </tr>\n",
       "    <tr>\n",
       "      <td>12325</td>\n",
       "      <td>3.0</td>\n",
       "      <td>145.000000</td>\n",
       "      <td>0.0</td>\n",
       "      <td>0.00</td>\n",
       "      <td>53.0</td>\n",
       "      <td>1783.791667</td>\n",
       "      <td>0.007143</td>\n",
       "      <td>0.029031</td>\n",
       "      <td>12.241717</td>\n",
       "      <td>0.0</td>\n",
       "      <td>Dec</td>\n",
       "      <td>4</td>\n",
       "      <td>6</td>\n",
       "      <td>1</td>\n",
       "      <td>1</td>\n",
       "      <td>Returning_Visitor</td>\n",
       "      <td>True</td>\n",
       "      <td>False</td>\n",
       "    </tr>\n",
       "  </tbody>\n",
       "</table>\n",
       "<p>2730 rows × 18 columns</p>\n",
       "</div>"
      ],
      "text/plain": [
       "       Administrative  Administrative_Duration  Informational  \\\n",
       "29                1.0                 6.000000            1.0   \n",
       "57                4.0                56.000000            2.0   \n",
       "62               12.0               279.416667            0.0   \n",
       "65                3.0                87.833333            0.0   \n",
       "76               10.0              1005.666667            0.0   \n",
       "...               ...                      ...            ...   \n",
       "12307             2.0               305.125000            3.0   \n",
       "12312             7.0               150.357143            1.0   \n",
       "12313             3.0                16.000000            3.0   \n",
       "12319             0.0                 0.000000            0.0   \n",
       "12325             3.0               145.000000            0.0   \n",
       "\n",
       "       Informational_Duration  ProductRelated  ProductRelated_Duration  \\\n",
       "29                       0.00            45.0              1582.750000   \n",
       "57                     120.00            36.0               998.741667   \n",
       "62                       0.00            42.0              1553.583333   \n",
       "65                       0.00            27.0               798.333333   \n",
       "76                       0.00            36.0              2111.341667   \n",
       "...                       ...             ...                      ...   \n",
       "12307                  368.25            27.0              1121.250000   \n",
       "12312                    9.00           221.0             11431.001240   \n",
       "12313                   86.00            15.0              2773.500000   \n",
       "12319                    0.00            21.0              1128.583333   \n",
       "12325                    0.00            53.0              1783.791667   \n",
       "\n",
       "       BounceRates  ExitRates  PageValues  SpecialDay Month  OperatingSystems  \\\n",
       "29        0.043478   0.050821   54.179764         0.4   Feb                 3   \n",
       "57        0.000000   0.014736   19.447079         0.2   Feb                 2   \n",
       "62        0.009000   0.019667   38.308493         0.0   Feb                 1   \n",
       "65        0.000000   0.012644   22.916036         0.8   Feb                 2   \n",
       "76        0.004348   0.014493   11.439412         0.0   Feb                 2   \n",
       "...            ...        ...         ...         ...   ...               ...   \n",
       "12307     0.020000   0.042857   39.519807         0.0   Dec                 3   \n",
       "12312     0.011149   0.021904    1.582473         0.0   Nov                 2   \n",
       "12313     0.000000   0.030000   78.811725         0.0   Dec                 2   \n",
       "12319     0.000000   0.013043    3.685401         0.0   Dec                 2   \n",
       "12325     0.007143   0.029031   12.241717         0.0   Dec                 4   \n",
       "\n",
       "       Browser  Region  TrafficType        VisitorType  Weekend  Revenue  \n",
       "29           2       1            1  Returning_Visitor    False    False  \n",
       "57           2       4            1  Returning_Visitor    False    False  \n",
       "62           1       3            2  Returning_Visitor    False    False  \n",
       "65           2       3            1  Returning_Visitor    False     True  \n",
       "76           6       1            2  Returning_Visitor    False     True  \n",
       "...        ...     ...          ...                ...      ...      ...  \n",
       "12307        2       1            2  Returning_Visitor    False    False  \n",
       "12312        5       1            2  Returning_Visitor     True     True  \n",
       "12313        2       1            2  Returning_Visitor    False     True  \n",
       "12319        2       1            2  Returning_Visitor    False    False  \n",
       "12325        6       1            1  Returning_Visitor     True    False  \n",
       "\n",
       "[2730 rows x 18 columns]"
      ]
     },
     "execution_count": 18,
     "metadata": {},
     "output_type": "execute_result"
    }
   ],
   "source": [
    "page"
   ]
  },
  {
   "cell_type": "code",
   "execution_count": 19,
   "metadata": {},
   "outputs": [],
   "source": [
    "#0=Winter, 1=Spring, 2=Summer, 3=Fall\n",
    "df['Season'] = df.Month.map(lambda x: 'Winter' if (x=='Jan' or x=='Feb' or x=='Mar') else \n",
    "                            ('Spring' if (x=='Apr' or x=='May' or x=='June') else \n",
    "                             ('Summer' if (x=='Jul' or x=='Aug' or x=='Sep') else \n",
    "                             ('Fall' if (x=='Oct' or x=='Nov' or x=='Dec') else x))))\n",
    "# df['Season'] = df.Month.map(lambda x: 'Spring' if (x=='Apr' or x=='May' or x=='Jun') else x)\n",
    "# df['Season'] = df.Month.map(lambda x: 'Summer' if (x=='Jul' or x=='Aug' or x=='Sep') else x)\n",
    "# df['Season'] = df.Month.map(lambda x: 'Fall' if (x=='Oct' or x=='Nov' or x=='Dec') else x)"
   ]
  },
  {
   "cell_type": "code",
   "execution_count": 20,
   "metadata": {},
   "outputs": [
    {
     "data": {
      "text/plain": [
       "False    10422\n",
       "True      1908\n",
       "Name: Revenue, dtype: int64"
      ]
     },
     "execution_count": 20,
     "metadata": {},
     "output_type": "execute_result"
    }
   ],
   "source": [
    "df.Revenue.value_counts()"
   ]
  },
  {
   "cell_type": "code",
   "execution_count": 21,
   "metadata": {},
   "outputs": [],
   "source": [
    "df['Revenue'] = df['Revenue'].map(lambda x: 1 if x ==True else 0)"
   ]
  },
  {
   "cell_type": "markdown",
   "metadata": {},
   "source": [
    "### Which season had the most purchases?"
   ]
  },
  {
   "cell_type": "code",
   "execution_count": 22,
   "metadata": {
    "scrolled": false
   },
   "outputs": [
    {
     "data": {
      "image/png": "[encoded data removed]",
      "text/plain": [
       "<Figure size 720x432 with 1 Axes>"
      ]
     },
     "metadata": {
      "needs_background": "light"
     },
     "output_type": "display_data"
    }
   ],
   "source": [
    "plt.figure(figsize = (10,6))\n",
    "y = df.groupby(['Season']).Revenue.mean();\n",
    "x = y.index\n",
    "sns.barplot(x,y)\n",
    "sns.set(style='dark', palette='ocean_r')\n",
    "plt.title('Season vs Purchase Ratio', fontsize=18);\n",
    "plt.xlabel('Season');\n",
    "plt.ylabel('Ratio of Purchases');\n",
    "# plt.suptitle(, fontsize=12);\n",
    "\n",
    "plt.savefig('seasonality.png')"
   ]
  },
  {
   "cell_type": "code",
   "execution_count": 23,
   "metadata": {},
   "outputs": [
    {
     "name": "stdout",
     "output_type": "stream",
     "text": [
      "<class 'pandas.core.frame.DataFrame'>\n",
      "Int64Index: 12330 entries, 0 to 12329\n",
      "Data columns (total 19 columns):\n",
      "Administrative             12330 non-null float64\n",
      "Administrative_Duration    12330 non-null float64\n",
      "Informational              12330 non-null float64\n",
      "Informational_Duration     12330 non-null float64\n",
      "ProductRelated             12330 non-null float64\n",
      "ProductRelated_Duration    12330 non-null float64\n",
      "BounceRates                12330 non-null float64\n",
      "ExitRates                  12330 non-null float64\n",
      "PageValues                 12330 non-null float64\n",
      "SpecialDay                 12330 non-null float64\n",
      "Month                      12330 non-null object\n",
      "OperatingSystems           12330 non-null int64\n",
      "Browser                    12330 non-null int64\n",
      "Region                     12330 non-null int64\n",
      "TrafficType                12330 non-null int64\n",
      "VisitorType                12330 non-null object\n",
      "Weekend                    12330 non-null bool\n",
      "Revenue                    12330 non-null int64\n",
      "Season                     12330 non-null object\n",
      "dtypes: bool(1), float64(10), int64(5), object(3)\n",
      "memory usage: 1.8+ MB\n"
     ]
    }
   ],
   "source": [
    "df.info()"
   ]
  },
  {
   "cell_type": "code",
   "execution_count": 24,
   "metadata": {},
   "outputs": [],
   "source": [
    "df_season_winter = df[df['Season']=='Winter']\n",
    "df_season_spring = df[df['Season']=='Spring']\n",
    "df_season_summer = df[df['Season']=='Summer']\n",
    "df_season_fall = df[df['Season']=='Fall']"
   ]
  },
  {
   "cell_type": "code",
   "execution_count": 25,
   "metadata": {},
   "outputs": [],
   "source": [
    "df_freq2=pd.DataFrame(columns=['winter_purchase', 'spring_purchase', 'summer_purchase', 'fall_purchase'])\n",
    "df_freq2['winter_purchase']= df_season_winter.groupby('Revenue')['Revenue'].count()\n",
    "df_freq2['spring_purchase']= df_season_spring.groupby('Revenue')['Revenue'].count()\n",
    "df_freq2['summer_purchase']= df_season_summer.groupby('Revenue')['Revenue'].count()\n",
    "df_freq2['fall_purchase']= df_season_fall.groupby('Revenue')['Revenue'].count()\n"
   ]
  },
  {
   "cell_type": "code",
   "execution_count": 26,
   "metadata": {},
   "outputs": [],
   "source": [
    "stat,p,dof,expected = stats.chi2_contingency(df_freq2)"
   ]
  },
  {
   "cell_type": "code",
   "execution_count": 27,
   "metadata": {},
   "outputs": [],
   "source": [
    "prob=0.95\n",
    "critical=stats.chi2.ppf(prob,dof)"
   ]
  },
  {
   "cell_type": "code",
   "execution_count": 28,
   "metadata": {},
   "outputs": [
    {
     "data": {
      "text/plain": [
       "(7.814727903251179, 234.86395412543635)"
      ]
     },
     "execution_count": 28,
     "metadata": {},
     "output_type": "execute_result"
    }
   ],
   "source": [
    "critical,stat"
   ]
  },
  {
   "cell_type": "code",
   "execution_count": 29,
   "metadata": {},
   "outputs": [
    {
     "name": "stdout",
     "output_type": "stream",
     "text": [
      "         winter_purchase  spring_purchase  summer_purchase  fall_purchase\n",
      "Revenue                                                                  \n",
      "0                   1896             3258             1085           4183\n",
      "1                    195              394              228           1091\n",
      "dof=3\n",
      "[[1767.42919708 3086.8729927  1109.82043796 4457.87737226]\n",
      " [ 323.57080292  565.1270073   203.17956204  816.12262774]]\n",
      "probability=0.950, critical=7.815, stat=234.864)\n",
      "Dependent (regject H0)\n",
      "signigicance=0.050, p=0.000,\n",
      "Dependent (reject H0)\n"
     ]
    }
   ],
   "source": [
    "from scipy.stats import chi2_contingency\n",
    "from scipy.stats import chi2\n",
    "# contingency table\n",
    "table = df_freq2\n",
    "print(table)\n",
    "stat, p, dof, expected = chi2_contingency(df_freq2)\n",
    "print('dof=%d' % dof)\n",
    "print(expected)\n",
    "#interpret test-statistic\n",
    "prob = 0.95\n",
    "critical = chi2.ppf(prob, dof)\n",
    "print('probability=%.3f, critical=%.3f, stat=%.3f)' % (prob, critical, stat))\n",
    "if abs(stat) >= critical:\n",
    "    print('Dependent (regject H0)')\n",
    "else:\n",
    "    print('Independent (fail to reject H0)')\n",
    "#interpret p-value\n",
    "alpha= 1-prob\n",
    "print('signigicance=%.3f, p=%.3f,' % (alpha, p))\n",
    "if p <= alpha:\n",
    "    print('Dependent (reject H0)')\n",
    "else: \n",
    "    print('Independent (fail to reject)')"
   ]
  },
  {
   "cell_type": "markdown",
   "metadata": {},
   "source": [
    "#### We can reject our null hypothesis and say there is a significant diffence in the portion of purchases between the seasons"
   ]
  },
  {
   "cell_type": "code",
   "execution_count": 30,
   "metadata": {
    "scrolled": false
   },
   "outputs": [
    {
     "data": {
      "image/png": "[encoded data removed]",
      "text/plain": [
       "<Figure size 720x432 with 1 Axes>"
      ]
     },
     "metadata": {},
     "output_type": "display_data"
    }
   ],
   "source": [
    "fall = df[(df['Season'] =='Fall')]\n",
    "plt.figure(figsize = (10,6))\n",
    "y = fall.groupby(['Month']).Revenue.mean();\n",
    "x=y.index\n",
    "sns.barplot(x,y)\n",
    "sns.set(style='dark', palette='icefire_r')\n",
    "plt.title('Fall Months Purchases', fontsize=16);\n",
    "plt.xlabel('Month');\n",
    "plt.ylabel('% of Purchases');\n",
    "# plt.suptitle(, fontsize=12);"
   ]
  },
  {
   "cell_type": "code",
   "execution_count": 31,
   "metadata": {},
   "outputs": [],
   "source": [
    "df_fall_dec = df[df['Month']=='Dec']\n",
    "df_fall_nov = df[df['Month']=='Nov']\n",
    "df_fall_oct = df[df['Month']=='Oct']"
   ]
  },
  {
   "cell_type": "code",
   "execution_count": 32,
   "metadata": {},
   "outputs": [],
   "source": [
    "df_freq3=pd.DataFrame(columns=['dec_purchase', 'nov_purchase', 'oct_purchase'])\n",
    "df_freq3['dec_purchase']= df_fall_dec.groupby('Revenue')['Revenue'].count()\n",
    "df_freq3['nov_purchase']= df_fall_nov.groupby('Revenue')['Revenue'].count()\n",
    "df_freq3['oct_purchase']= df_fall_oct.groupby('Revenue')['Revenue'].count()"
   ]
  },
  {
   "cell_type": "code",
   "execution_count": 33,
   "metadata": {},
   "outputs": [
    {
     "name": "stdout",
     "output_type": "stream",
     "text": [
      "         dec_purchase  nov_purchase  oct_purchase\n",
      "Revenue                                          \n",
      "0                1511          2238           434\n",
      "1                 216           760           115\n",
      "dof=2\n",
      "[[1369.74611301 2377.82214638  435.43174061]\n",
      " [ 357.25388699  620.17785362  113.56825939]]\n",
      "probability=0.950, critical=5.991, stat=110.185)\n",
      "Dependent (regject H0)\n",
      "signigicance=0.050, p=0.000,\n",
      "Dependent (reject H0)\n"
     ]
    }
   ],
   "source": [
    "from scipy.stats import chi2_contingency\n",
    "from scipy.stats import chi2\n",
    "# contingency table\n",
    "table = df_freq3\n",
    "print(table)\n",
    "stat, p, dof, expected = chi2_contingency(df_freq3)\n",
    "print('dof=%d' % dof)\n",
    "print(expected)\n",
    "#interpret test-statistic\n",
    "prob = 0.95\n",
    "critical = chi2.ppf(prob, dof)\n",
    "print('probability=%.3f, critical=%.3f, stat=%.3f)' % (prob, critical, stat))\n",
    "if abs(stat) >= critical:\n",
    "    print('Dependent (regject H0)')\n",
    "else:\n",
    "    print('Independent (fail to reject H0)')\n",
    "#interpret p-value\n",
    "alpha= 1-prob\n",
    "print('signigicance=%.3f, p=%.3f,' % (alpha, p))\n",
    "if p <= alpha:\n",
    "    print('Dependent (reject H0)')\n",
    "else: \n",
    "    print('Independent (fail to reject)')"
   ]
  },
  {
   "cell_type": "markdown",
   "metadata": {},
   "source": [
    "### We can reject the null and say that there is a significant difference in proportion of purchases in the fall months."
   ]
  },
  {
   "cell_type": "code",
   "execution_count": 34,
   "metadata": {},
   "outputs": [
    {
     "data": {
      "text/html": [
       "<div>\n",
       "<style scoped>\n",
       "    .dataframe tbody tr th:only-of-type {\n",
       "        vertical-align: middle;\n",
       "    }\n",
       "\n",
       "    .dataframe tbody tr th {\n",
       "        vertical-align: top;\n",
       "    }\n",
       "\n",
       "    .dataframe thead th {\n",
       "        text-align: right;\n",
       "    }\n",
       "</style>\n",
       "<table border=\"1\" class=\"dataframe\">\n",
       "  <thead>\n",
       "    <tr style=\"text-align: right;\">\n",
       "      <th></th>\n",
       "      <th>Administrative</th>\n",
       "      <th>Administrative_Duration</th>\n",
       "      <th>Informational</th>\n",
       "      <th>Informational_Duration</th>\n",
       "      <th>ProductRelated</th>\n",
       "      <th>ProductRelated_Duration</th>\n",
       "      <th>BounceRates</th>\n",
       "      <th>ExitRates</th>\n",
       "      <th>PageValues</th>\n",
       "      <th>SpecialDay</th>\n",
       "      <th>Month</th>\n",
       "      <th>OperatingSystems</th>\n",
       "      <th>Browser</th>\n",
       "      <th>Region</th>\n",
       "      <th>TrafficType</th>\n",
       "      <th>VisitorType</th>\n",
       "      <th>Weekend</th>\n",
       "      <th>Revenue</th>\n",
       "      <th>Season</th>\n",
       "    </tr>\n",
       "  </thead>\n",
       "  <tbody>\n",
       "    <tr>\n",
       "      <td>0</td>\n",
       "      <td>0.0</td>\n",
       "      <td>0.0</td>\n",
       "      <td>0.0</td>\n",
       "      <td>0.0</td>\n",
       "      <td>1.0</td>\n",
       "      <td>0.000000</td>\n",
       "      <td>0.200000</td>\n",
       "      <td>0.200000</td>\n",
       "      <td>0.0</td>\n",
       "      <td>0.0</td>\n",
       "      <td>Feb</td>\n",
       "      <td>1</td>\n",
       "      <td>1</td>\n",
       "      <td>1</td>\n",
       "      <td>1</td>\n",
       "      <td>Returning_Visitor</td>\n",
       "      <td>False</td>\n",
       "      <td>0</td>\n",
       "      <td>Winter</td>\n",
       "    </tr>\n",
       "    <tr>\n",
       "      <td>1</td>\n",
       "      <td>0.0</td>\n",
       "      <td>0.0</td>\n",
       "      <td>0.0</td>\n",
       "      <td>0.0</td>\n",
       "      <td>2.0</td>\n",
       "      <td>64.000000</td>\n",
       "      <td>0.000000</td>\n",
       "      <td>0.100000</td>\n",
       "      <td>0.0</td>\n",
       "      <td>0.0</td>\n",
       "      <td>Feb</td>\n",
       "      <td>2</td>\n",
       "      <td>2</td>\n",
       "      <td>1</td>\n",
       "      <td>2</td>\n",
       "      <td>Returning_Visitor</td>\n",
       "      <td>False</td>\n",
       "      <td>0</td>\n",
       "      <td>Winter</td>\n",
       "    </tr>\n",
       "    <tr>\n",
       "      <td>2</td>\n",
       "      <td>0.0</td>\n",
       "      <td>0.0</td>\n",
       "      <td>0.0</td>\n",
       "      <td>-1.0</td>\n",
       "      <td>1.0</td>\n",
       "      <td>-1.000000</td>\n",
       "      <td>0.200000</td>\n",
       "      <td>0.200000</td>\n",
       "      <td>0.0</td>\n",
       "      <td>0.0</td>\n",
       "      <td>Feb</td>\n",
       "      <td>4</td>\n",
       "      <td>1</td>\n",
       "      <td>9</td>\n",
       "      <td>3</td>\n",
       "      <td>Returning_Visitor</td>\n",
       "      <td>False</td>\n",
       "      <td>0</td>\n",
       "      <td>Winter</td>\n",
       "    </tr>\n",
       "    <tr>\n",
       "      <td>3</td>\n",
       "      <td>0.0</td>\n",
       "      <td>0.0</td>\n",
       "      <td>0.0</td>\n",
       "      <td>0.0</td>\n",
       "      <td>2.0</td>\n",
       "      <td>2.666667</td>\n",
       "      <td>0.050000</td>\n",
       "      <td>0.140000</td>\n",
       "      <td>0.0</td>\n",
       "      <td>0.0</td>\n",
       "      <td>Feb</td>\n",
       "      <td>3</td>\n",
       "      <td>2</td>\n",
       "      <td>2</td>\n",
       "      <td>4</td>\n",
       "      <td>Returning_Visitor</td>\n",
       "      <td>False</td>\n",
       "      <td>0</td>\n",
       "      <td>Winter</td>\n",
       "    </tr>\n",
       "    <tr>\n",
       "      <td>4</td>\n",
       "      <td>0.0</td>\n",
       "      <td>0.0</td>\n",
       "      <td>0.0</td>\n",
       "      <td>0.0</td>\n",
       "      <td>10.0</td>\n",
       "      <td>627.500000</td>\n",
       "      <td>0.020000</td>\n",
       "      <td>0.050000</td>\n",
       "      <td>0.0</td>\n",
       "      <td>0.0</td>\n",
       "      <td>Feb</td>\n",
       "      <td>3</td>\n",
       "      <td>3</td>\n",
       "      <td>1</td>\n",
       "      <td>4</td>\n",
       "      <td>Returning_Visitor</td>\n",
       "      <td>True</td>\n",
       "      <td>0</td>\n",
       "      <td>Winter</td>\n",
       "    </tr>\n",
       "    <tr>\n",
       "      <td>...</td>\n",
       "      <td>...</td>\n",
       "      <td>...</td>\n",
       "      <td>...</td>\n",
       "      <td>...</td>\n",
       "      <td>...</td>\n",
       "      <td>...</td>\n",
       "      <td>...</td>\n",
       "      <td>...</td>\n",
       "      <td>...</td>\n",
       "      <td>...</td>\n",
       "      <td>...</td>\n",
       "      <td>...</td>\n",
       "      <td>...</td>\n",
       "      <td>...</td>\n",
       "      <td>...</td>\n",
       "      <td>...</td>\n",
       "      <td>...</td>\n",
       "      <td>...</td>\n",
       "      <td>...</td>\n",
       "    </tr>\n",
       "    <tr>\n",
       "      <td>179</td>\n",
       "      <td>0.0</td>\n",
       "      <td>0.0</td>\n",
       "      <td>0.0</td>\n",
       "      <td>0.0</td>\n",
       "      <td>6.0</td>\n",
       "      <td>163.250000</td>\n",
       "      <td>0.033333</td>\n",
       "      <td>0.033333</td>\n",
       "      <td>0.0</td>\n",
       "      <td>0.6</td>\n",
       "      <td>Feb</td>\n",
       "      <td>1</td>\n",
       "      <td>1</td>\n",
       "      <td>6</td>\n",
       "      <td>2</td>\n",
       "      <td>Returning_Visitor</td>\n",
       "      <td>False</td>\n",
       "      <td>0</td>\n",
       "      <td>Winter</td>\n",
       "    </tr>\n",
       "    <tr>\n",
       "      <td>180</td>\n",
       "      <td>0.0</td>\n",
       "      <td>0.0</td>\n",
       "      <td>0.0</td>\n",
       "      <td>0.0</td>\n",
       "      <td>17.0</td>\n",
       "      <td>284.250000</td>\n",
       "      <td>0.000000</td>\n",
       "      <td>0.011765</td>\n",
       "      <td>0.0</td>\n",
       "      <td>0.0</td>\n",
       "      <td>Feb</td>\n",
       "      <td>3</td>\n",
       "      <td>2</td>\n",
       "      <td>6</td>\n",
       "      <td>2</td>\n",
       "      <td>Returning_Visitor</td>\n",
       "      <td>True</td>\n",
       "      <td>0</td>\n",
       "      <td>Winter</td>\n",
       "    </tr>\n",
       "    <tr>\n",
       "      <td>181</td>\n",
       "      <td>0.0</td>\n",
       "      <td>0.0</td>\n",
       "      <td>0.0</td>\n",
       "      <td>-1.0</td>\n",
       "      <td>1.0</td>\n",
       "      <td>-1.000000</td>\n",
       "      <td>0.200000</td>\n",
       "      <td>0.200000</td>\n",
       "      <td>0.0</td>\n",
       "      <td>0.6</td>\n",
       "      <td>Feb</td>\n",
       "      <td>4</td>\n",
       "      <td>2</td>\n",
       "      <td>1</td>\n",
       "      <td>3</td>\n",
       "      <td>Returning_Visitor</td>\n",
       "      <td>False</td>\n",
       "      <td>0</td>\n",
       "      <td>Winter</td>\n",
       "    </tr>\n",
       "    <tr>\n",
       "      <td>182</td>\n",
       "      <td>0.0</td>\n",
       "      <td>0.0</td>\n",
       "      <td>0.0</td>\n",
       "      <td>-1.0</td>\n",
       "      <td>1.0</td>\n",
       "      <td>-1.000000</td>\n",
       "      <td>0.200000</td>\n",
       "      <td>0.200000</td>\n",
       "      <td>0.0</td>\n",
       "      <td>0.0</td>\n",
       "      <td>Feb</td>\n",
       "      <td>2</td>\n",
       "      <td>4</td>\n",
       "      <td>1</td>\n",
       "      <td>1</td>\n",
       "      <td>Returning_Visitor</td>\n",
       "      <td>False</td>\n",
       "      <td>0</td>\n",
       "      <td>Winter</td>\n",
       "    </tr>\n",
       "    <tr>\n",
       "      <td>183</td>\n",
       "      <td>0.0</td>\n",
       "      <td>0.0</td>\n",
       "      <td>0.0</td>\n",
       "      <td>0.0</td>\n",
       "      <td>8.0</td>\n",
       "      <td>260.000000</td>\n",
       "      <td>0.008333</td>\n",
       "      <td>0.025000</td>\n",
       "      <td>0.0</td>\n",
       "      <td>0.8</td>\n",
       "      <td>Feb</td>\n",
       "      <td>3</td>\n",
       "      <td>2</td>\n",
       "      <td>1</td>\n",
       "      <td>3</td>\n",
       "      <td>Returning_Visitor</td>\n",
       "      <td>True</td>\n",
       "      <td>0</td>\n",
       "      <td>Winter</td>\n",
       "    </tr>\n",
       "  </tbody>\n",
       "</table>\n",
       "<p>184 rows × 19 columns</p>\n",
       "</div>"
      ],
      "text/plain": [
       "     Administrative  Administrative_Duration  Informational  \\\n",
       "0               0.0                      0.0            0.0   \n",
       "1               0.0                      0.0            0.0   \n",
       "2               0.0                      0.0            0.0   \n",
       "3               0.0                      0.0            0.0   \n",
       "4               0.0                      0.0            0.0   \n",
       "..              ...                      ...            ...   \n",
       "179             0.0                      0.0            0.0   \n",
       "180             0.0                      0.0            0.0   \n",
       "181             0.0                      0.0            0.0   \n",
       "182             0.0                      0.0            0.0   \n",
       "183             0.0                      0.0            0.0   \n",
       "\n",
       "     Informational_Duration  ProductRelated  ProductRelated_Duration  \\\n",
       "0                       0.0             1.0                 0.000000   \n",
       "1                       0.0             2.0                64.000000   \n",
       "2                      -1.0             1.0                -1.000000   \n",
       "3                       0.0             2.0                 2.666667   \n",
       "4                       0.0            10.0               627.500000   \n",
       "..                      ...             ...                      ...   \n",
       "179                     0.0             6.0               163.250000   \n",
       "180                     0.0            17.0               284.250000   \n",
       "181                    -1.0             1.0                -1.000000   \n",
       "182                    -1.0             1.0                -1.000000   \n",
       "183                     0.0             8.0               260.000000   \n",
       "\n",
       "     BounceRates  ExitRates  PageValues  SpecialDay Month  OperatingSystems  \\\n",
       "0       0.200000   0.200000         0.0         0.0   Feb                 1   \n",
       "1       0.000000   0.100000         0.0         0.0   Feb                 2   \n",
       "2       0.200000   0.200000         0.0         0.0   Feb                 4   \n",
       "3       0.050000   0.140000         0.0         0.0   Feb                 3   \n",
       "4       0.020000   0.050000         0.0         0.0   Feb                 3   \n",
       "..           ...        ...         ...         ...   ...               ...   \n",
       "179     0.033333   0.033333         0.0         0.6   Feb                 1   \n",
       "180     0.000000   0.011765         0.0         0.0   Feb                 3   \n",
       "181     0.200000   0.200000         0.0         0.6   Feb                 4   \n",
       "182     0.200000   0.200000         0.0         0.0   Feb                 2   \n",
       "183     0.008333   0.025000         0.0         0.8   Feb                 3   \n",
       "\n",
       "     Browser  Region  TrafficType        VisitorType  Weekend  Revenue  Season  \n",
       "0          1       1            1  Returning_Visitor    False        0  Winter  \n",
       "1          2       1            2  Returning_Visitor    False        0  Winter  \n",
       "2          1       9            3  Returning_Visitor    False        0  Winter  \n",
       "3          2       2            4  Returning_Visitor    False        0  Winter  \n",
       "4          3       1            4  Returning_Visitor     True        0  Winter  \n",
       "..       ...     ...          ...                ...      ...      ...     ...  \n",
       "179        1       6            2  Returning_Visitor    False        0  Winter  \n",
       "180        2       6            2  Returning_Visitor     True        0  Winter  \n",
       "181        2       1            3  Returning_Visitor    False        0  Winter  \n",
       "182        4       1            1  Returning_Visitor    False        0  Winter  \n",
       "183        2       1            3  Returning_Visitor     True        0  Winter  \n",
       "\n",
       "[184 rows x 19 columns]"
      ]
     },
     "execution_count": 34,
     "metadata": {},
     "output_type": "execute_result"
    }
   ],
   "source": [
    "df[df['Month']=='Feb']"
   ]
  },
  {
   "cell_type": "markdown",
   "metadata": {},
   "source": [
    "### What kind of VisitorType make the most purchases?"
   ]
  },
  {
   "cell_type": "code",
   "execution_count": 35,
   "metadata": {},
   "outputs": [
    {
     "data": {
      "image/png": "[encoded data removed]",
      "text/plain": [
       "<Figure size 432x288 with 1 Axes>"
      ]
     },
     "metadata": {},
     "output_type": "display_data"
    }
   ],
   "source": [
    "\n",
    "y = df.groupby(['VisitorType']).Revenue.sum();\n",
    "y.plot.bar()\n",
    "# sns.barplot(x,y)\n",
    "sns.set(style='dark')\n",
    "plt.title('Vistor Type vs Purchases', fontsize=12);\n",
    "plt.xlabel('Visitor Type');\n",
    "plt.ylabel('# of Purchases');\n",
    "# plt.suptitle(, fontsize=12);\n",
    "#Limitation: Summer is 4 months long, whereas Holiday season is 2 months"
   ]
  },
  {
   "cell_type": "code",
   "execution_count": 36,
   "metadata": {
    "scrolled": false
   },
   "outputs": [
    {
     "data": {
      "image/png": "[encoded data removed]",
      "text/plain": [
       "<Figure size 432x288 with 1 Axes>"
      ]
     },
     "metadata": {},
     "output_type": "display_data"
    }
   ],
   "source": [
    "\n",
    "y = df.groupby(['VisitorType']).Revenue.mean();\n",
    "y.plot.bar()\n",
    "# sns.barplot(x,y)\n",
    "sns.set(style='dark')\n",
    "plt.title('% of Purchases by Visitor Type', fontsize=12);\n",
    "plt.xlabel('Visitor Type');\n",
    "plt.ylabel('% of Purchases');\n",
    "# plt.suptitle(, fontsize=12);\n",
    "#Limitation: Summer is 4 months long, whereas Holiday season is 2 months"
   ]
  },
  {
   "cell_type": "code",
   "execution_count": 37,
   "metadata": {},
   "outputs": [],
   "source": [
    "df_new_visitor = df[df['VisitorType']=='New_Visitor']\n",
    "df_returning_visitor = df[df['VisitorType']=='Returning_Visitor']\n",
    "df_other = df[df['VisitorType']=='Other']"
   ]
  },
  {
   "cell_type": "code",
   "execution_count": 38,
   "metadata": {},
   "outputs": [],
   "source": [
    "df_freq4=pd.DataFrame(columns=['new_purchase', 'returning_purchase', 'other_purchase'])\n",
    "df_freq4['new_purchase']= df_new_visitor.groupby('Revenue')['Revenue'].count()\n",
    "df_freq4['returning_purchase']= df_returning_visitor.groupby('Revenue')['Revenue'].count()\n",
    "df_freq4['other_purchase']= df_other.groupby('Revenue')['Revenue'].count()"
   ]
  },
  {
   "cell_type": "code",
   "execution_count": 39,
   "metadata": {},
   "outputs": [
    {
     "name": "stdout",
     "output_type": "stream",
     "text": [
      "         new_purchase  returning_purchase  other_purchase\n",
      "Revenue                                                  \n",
      "0                1272                9081              69\n",
      "1                 422                1470              16\n",
      "dof=2\n",
      "[[1431.86277372 8918.29051095   71.84671533]\n",
      " [ 262.13722628 1632.70948905   13.15328467]]\n",
      "probability=0.950, critical=5.991, stat=135.252)\n",
      "Dependent (regject H0)\n",
      "signigicance=0.050, p=0.000,\n",
      "Dependent (reject H0)\n"
     ]
    }
   ],
   "source": [
    "from scipy.stats import chi2_contingency\n",
    "from scipy.stats import chi2\n",
    "# contingency table\n",
    "table = df_freq4\n",
    "print(table)\n",
    "stat, p, dof, expected = chi2_contingency(df_freq4)\n",
    "print('dof=%d' % dof)\n",
    "print(expected)\n",
    "#interpret test-statistic\n",
    "prob = 0.95\n",
    "critical = chi2.ppf(prob, dof)\n",
    "print('probability=%.3f, critical=%.3f, stat=%.3f)' % (prob, critical, stat))\n",
    "if abs(stat) >= critical:\n",
    "    print('Dependent (regject H0)')\n",
    "else:\n",
    "    print('Independent (fail to reject H0)')\n",
    "#interpret p-value\n",
    "alpha= 1-prob\n",
    "print('signigicance=%.3f, p=%.3f,' % (alpha, p))\n",
    "if p <= alpha:\n",
    "    print('Dependent (reject H0)')\n",
    "else: \n",
    "    print('Independent (fail to reject)')"
   ]
  },
  {
   "cell_type": "code",
   "execution_count": 40,
   "metadata": {},
   "outputs": [
    {
     "data": {
      "text/plain": [
       "1908"
      ]
     },
     "execution_count": 40,
     "metadata": {},
     "output_type": "execute_result"
    }
   ],
   "source": [
    "df[df['Revenue']==1].Revenue.sum()"
   ]
  },
  {
   "cell_type": "code",
   "execution_count": 41,
   "metadata": {},
   "outputs": [],
   "source": [
    "df['Product_Duration'] = df['ProductRelated_Duration'].apply(lambda x: 0 if 0<=x<=187 else\n",
    "                                                             (1 if 187<x<=602.5 else \n",
    "                                                              ( 2 if 602.5<x<=1470.91 else \n",
    "                                                              (3 if 1470.91 <x <=63973.52 else(4)))))"
   ]
  },
  {
   "cell_type": "code",
   "execution_count": 42,
   "metadata": {},
   "outputs": [
    {
     "data": {
      "image/png": "[encoded data removed]",
      "text/plain": [
       "<Figure size 432x288 with 1 Axes>"
      ]
     },
     "metadata": {},
     "output_type": "display_data"
    }
   ],
   "source": [
    "\n",
    "y = df.groupby(['Product_Duration']).Revenue.sum();\n",
    "y.plot.bar()\n",
    "# sns.barplot(x,y)\n",
    "sns.set(style='dark')\n",
    "plt.title('Vistor Type vs Duration of Product Related', fontsize=12);\n",
    "plt.xlabel('Product Related Duration');\n",
    "plt.ylabel('# of Purchases');\n",
    "# plt.suptitle(, fontsize=12);"
   ]
  },
  {
   "cell_type": "code",
   "execution_count": 43,
   "metadata": {},
   "outputs": [
    {
     "data": {
      "text/plain": [
       "Text(0, 0.5, 'Number of Visitors')"
      ]
     },
     "execution_count": 43,
     "metadata": {},
     "output_type": "execute_result"
    },
    {
     "data": {
      "image/png": "[encoded data removed]",
      "text/plain": [
       "<Figure size 1152x576 with 1 Axes>"
      ]
     },
     "metadata": {},
     "output_type": "display_data"
    }
   ],
   "source": [
    "plt.figure(figsize = (16,8))\n",
    "sns.countplot(x = \"Region\", data = df, \n",
    "              order = df['Region'].value_counts().index)\n",
    "plt.title(\"Site Visitors by Region\", fontsize = 16)\n",
    "plt.xlabel(\"Region\", fontsize = 16)\n",
    "plt.ylabel(\"Number of Visitors\", fontsize = 16)"
   ]
  },
  {
   "cell_type": "code",
   "execution_count": 44,
   "metadata": {
    "scrolled": true
   },
   "outputs": [],
   "source": [
    "df['Region']= df['Region'].astype('category')"
   ]
  },
  {
   "cell_type": "code",
   "execution_count": 45,
   "metadata": {},
   "outputs": [
    {
     "data": {
      "image/png": "[encoded data removed]",
      "text/plain": [
       "<Figure size 432x288 with 1 Axes>"
      ]
     },
     "metadata": {},
     "output_type": "display_data"
    }
   ],
   "source": [
    "\n",
    "y = df.groupby(['Region']).Revenue.mean();\n",
    "y.plot.bar()\n",
    "# sns.barplot(x,y)\n",
    "sns.set(style='dark')\n",
    "plt.title('Region vs # of Purchases', fontsize=12);\n",
    "plt.xlabel('Region');\n",
    "plt.ylabel('# of Purchases');\n",
    "# plt.suptitle(, fontsize=12);"
   ]
  },
  {
   "cell_type": "code",
   "execution_count": 46,
   "metadata": {},
   "outputs": [
    {
     "data": {
      "image/png": "[encoded data removed]",
      "text/plain": [
       "<Figure size 432x288 with 1 Axes>"
      ]
     },
     "metadata": {},
     "output_type": "display_data"
    }
   ],
   "source": [
    "\n",
    "y = df.groupby(['Browser']).BounceRates.mean();\n",
    "y.plot.bar()\n",
    "# sns.barplot(x,y)\n",
    "sns.set(style='dark')\n",
    "plt.title('Brower vs Bounce Rates', fontsize=12);\n",
    "plt.xlabel('Browser');\n",
    "plt.ylabel('Bounce Rates');\n",
    "# plt.suptitle(, fontsize=12)"
   ]
  },
  {
   "cell_type": "markdown",
   "metadata": {},
   "source": [
    "We wanted to see which browsers have higher bounce rates, as it may be in the UI design that something isn't working correctly for that specific browser."
   ]
  },
  {
   "cell_type": "markdown",
   "metadata": {},
   "source": [
    "## Special day's and how it effects purchasing"
   ]
  },
  {
   "cell_type": "code",
   "execution_count": 47,
   "metadata": {
    "scrolled": true
   },
   "outputs": [
    {
     "data": {
      "text/plain": [
       "0.0    0.898540\n",
       "0.6    0.028467\n",
       "0.8    0.026358\n",
       "0.4    0.019708\n",
       "0.2    0.014436\n",
       "1.0    0.012490\n",
       "Name: SpecialDay, dtype: float64"
      ]
     },
     "execution_count": 47,
     "metadata": {},
     "output_type": "execute_result"
    }
   ],
   "source": [
    "df.SpecialDay.value_counts(normalize=True)"
   ]
  },
  {
   "cell_type": "code",
   "execution_count": 48,
   "metadata": {
    "scrolled": true
   },
   "outputs": [
    {
     "data": {
      "image/png": "[encoded data removed]",
      "text/plain": [
       "<Figure size 432x288 with 1 Axes>"
      ]
     },
     "metadata": {},
     "output_type": "display_data"
    }
   ],
   "source": [
    "y = df.groupby(['SpecialDay']).Revenue.mean();\n",
    "y.plot.bar()\n",
    "# sns.barplot(x,y)\n",
    "sns.set(style='dark')\n",
    "plt.title('Special day and Purchases', fontsize=12);\n",
    "plt.xlabel('Closeness to Special Day');\n",
    "plt.ylabel('#purchases');\n",
    "# plt.suptitle(, fontsize=12)"
   ]
  },
  {
   "cell_type": "code",
   "execution_count": 49,
   "metadata": {},
   "outputs": [
    {
     "data": {
      "text/plain": [
       "count    12330.000000\n",
       "mean         0.061427\n",
       "std          0.198917\n",
       "min          0.000000\n",
       "25%          0.000000\n",
       "50%          0.000000\n",
       "75%          0.000000\n",
       "max          1.000000\n",
       "Name: SpecialDay, dtype: float64"
      ]
     },
     "execution_count": 49,
     "metadata": {},
     "output_type": "execute_result"
    }
   ],
   "source": [
    "df.SpecialDay.describe()"
   ]
  },
  {
   "cell_type": "code",
   "execution_count": 50,
   "metadata": {},
   "outputs": [],
   "source": [
    "df['Special']=df['SpecialDay'].apply(lambda x: 1 if x> 0 else(0))"
   ]
  },
  {
   "cell_type": "code",
   "execution_count": 51,
   "metadata": {},
   "outputs": [
    {
     "data": {
      "text/html": [
       "<div>\n",
       "<style scoped>\n",
       "    .dataframe tbody tr th:only-of-type {\n",
       "        vertical-align: middle;\n",
       "    }\n",
       "\n",
       "    .dataframe tbody tr th {\n",
       "        vertical-align: top;\n",
       "    }\n",
       "\n",
       "    .dataframe thead th {\n",
       "        text-align: right;\n",
       "    }\n",
       "</style>\n",
       "<table border=\"1\" class=\"dataframe\">\n",
       "  <thead>\n",
       "    <tr style=\"text-align: right;\">\n",
       "      <th></th>\n",
       "      <th>Administrative</th>\n",
       "      <th>Administrative_Duration</th>\n",
       "      <th>Informational</th>\n",
       "      <th>Informational_Duration</th>\n",
       "      <th>ProductRelated</th>\n",
       "      <th>ProductRelated_Duration</th>\n",
       "      <th>BounceRates</th>\n",
       "      <th>ExitRates</th>\n",
       "      <th>PageValues</th>\n",
       "      <th>SpecialDay</th>\n",
       "      <th>...</th>\n",
       "      <th>OperatingSystems</th>\n",
       "      <th>Browser</th>\n",
       "      <th>Region</th>\n",
       "      <th>TrafficType</th>\n",
       "      <th>VisitorType</th>\n",
       "      <th>Weekend</th>\n",
       "      <th>Revenue</th>\n",
       "      <th>Season</th>\n",
       "      <th>Product_Duration</th>\n",
       "      <th>Special</th>\n",
       "    </tr>\n",
       "  </thead>\n",
       "  <tbody>\n",
       "    <tr>\n",
       "      <td>0</td>\n",
       "      <td>0.0</td>\n",
       "      <td>0.0</td>\n",
       "      <td>0.0</td>\n",
       "      <td>0.0</td>\n",
       "      <td>1.0</td>\n",
       "      <td>0.000000</td>\n",
       "      <td>0.200000</td>\n",
       "      <td>0.200000</td>\n",
       "      <td>0.000000</td>\n",
       "      <td>0.0</td>\n",
       "      <td>...</td>\n",
       "      <td>1</td>\n",
       "      <td>1</td>\n",
       "      <td>1</td>\n",
       "      <td>1</td>\n",
       "      <td>Returning_Visitor</td>\n",
       "      <td>False</td>\n",
       "      <td>0</td>\n",
       "      <td>Winter</td>\n",
       "      <td>0</td>\n",
       "      <td>0</td>\n",
       "    </tr>\n",
       "    <tr>\n",
       "      <td>1</td>\n",
       "      <td>0.0</td>\n",
       "      <td>0.0</td>\n",
       "      <td>0.0</td>\n",
       "      <td>0.0</td>\n",
       "      <td>2.0</td>\n",
       "      <td>64.000000</td>\n",
       "      <td>0.000000</td>\n",
       "      <td>0.100000</td>\n",
       "      <td>0.000000</td>\n",
       "      <td>0.0</td>\n",
       "      <td>...</td>\n",
       "      <td>2</td>\n",
       "      <td>2</td>\n",
       "      <td>1</td>\n",
       "      <td>2</td>\n",
       "      <td>Returning_Visitor</td>\n",
       "      <td>False</td>\n",
       "      <td>0</td>\n",
       "      <td>Winter</td>\n",
       "      <td>0</td>\n",
       "      <td>0</td>\n",
       "    </tr>\n",
       "    <tr>\n",
       "      <td>2</td>\n",
       "      <td>0.0</td>\n",
       "      <td>0.0</td>\n",
       "      <td>0.0</td>\n",
       "      <td>-1.0</td>\n",
       "      <td>1.0</td>\n",
       "      <td>-1.000000</td>\n",
       "      <td>0.200000</td>\n",
       "      <td>0.200000</td>\n",
       "      <td>0.000000</td>\n",
       "      <td>0.0</td>\n",
       "      <td>...</td>\n",
       "      <td>4</td>\n",
       "      <td>1</td>\n",
       "      <td>9</td>\n",
       "      <td>3</td>\n",
       "      <td>Returning_Visitor</td>\n",
       "      <td>False</td>\n",
       "      <td>0</td>\n",
       "      <td>Winter</td>\n",
       "      <td>4</td>\n",
       "      <td>0</td>\n",
       "    </tr>\n",
       "    <tr>\n",
       "      <td>3</td>\n",
       "      <td>0.0</td>\n",
       "      <td>0.0</td>\n",
       "      <td>0.0</td>\n",
       "      <td>0.0</td>\n",
       "      <td>2.0</td>\n",
       "      <td>2.666667</td>\n",
       "      <td>0.050000</td>\n",
       "      <td>0.140000</td>\n",
       "      <td>0.000000</td>\n",
       "      <td>0.0</td>\n",
       "      <td>...</td>\n",
       "      <td>3</td>\n",
       "      <td>2</td>\n",
       "      <td>2</td>\n",
       "      <td>4</td>\n",
       "      <td>Returning_Visitor</td>\n",
       "      <td>False</td>\n",
       "      <td>0</td>\n",
       "      <td>Winter</td>\n",
       "      <td>0</td>\n",
       "      <td>0</td>\n",
       "    </tr>\n",
       "    <tr>\n",
       "      <td>4</td>\n",
       "      <td>0.0</td>\n",
       "      <td>0.0</td>\n",
       "      <td>0.0</td>\n",
       "      <td>0.0</td>\n",
       "      <td>10.0</td>\n",
       "      <td>627.500000</td>\n",
       "      <td>0.020000</td>\n",
       "      <td>0.050000</td>\n",
       "      <td>0.000000</td>\n",
       "      <td>0.0</td>\n",
       "      <td>...</td>\n",
       "      <td>3</td>\n",
       "      <td>3</td>\n",
       "      <td>1</td>\n",
       "      <td>4</td>\n",
       "      <td>Returning_Visitor</td>\n",
       "      <td>True</td>\n",
       "      <td>0</td>\n",
       "      <td>Winter</td>\n",
       "      <td>2</td>\n",
       "      <td>0</td>\n",
       "    </tr>\n",
       "    <tr>\n",
       "      <td>...</td>\n",
       "      <td>...</td>\n",
       "      <td>...</td>\n",
       "      <td>...</td>\n",
       "      <td>...</td>\n",
       "      <td>...</td>\n",
       "      <td>...</td>\n",
       "      <td>...</td>\n",
       "      <td>...</td>\n",
       "      <td>...</td>\n",
       "      <td>...</td>\n",
       "      <td>...</td>\n",
       "      <td>...</td>\n",
       "      <td>...</td>\n",
       "      <td>...</td>\n",
       "      <td>...</td>\n",
       "      <td>...</td>\n",
       "      <td>...</td>\n",
       "      <td>...</td>\n",
       "      <td>...</td>\n",
       "      <td>...</td>\n",
       "      <td>...</td>\n",
       "    </tr>\n",
       "    <tr>\n",
       "      <td>12325</td>\n",
       "      <td>3.0</td>\n",
       "      <td>145.0</td>\n",
       "      <td>0.0</td>\n",
       "      <td>0.0</td>\n",
       "      <td>53.0</td>\n",
       "      <td>1783.791667</td>\n",
       "      <td>0.007143</td>\n",
       "      <td>0.029031</td>\n",
       "      <td>12.241717</td>\n",
       "      <td>0.0</td>\n",
       "      <td>...</td>\n",
       "      <td>4</td>\n",
       "      <td>6</td>\n",
       "      <td>1</td>\n",
       "      <td>1</td>\n",
       "      <td>Returning_Visitor</td>\n",
       "      <td>True</td>\n",
       "      <td>0</td>\n",
       "      <td>Fall</td>\n",
       "      <td>3</td>\n",
       "      <td>0</td>\n",
       "    </tr>\n",
       "    <tr>\n",
       "      <td>12326</td>\n",
       "      <td>0.0</td>\n",
       "      <td>0.0</td>\n",
       "      <td>0.0</td>\n",
       "      <td>0.0</td>\n",
       "      <td>5.0</td>\n",
       "      <td>465.750000</td>\n",
       "      <td>0.000000</td>\n",
       "      <td>0.021333</td>\n",
       "      <td>0.000000</td>\n",
       "      <td>0.0</td>\n",
       "      <td>...</td>\n",
       "      <td>3</td>\n",
       "      <td>2</td>\n",
       "      <td>1</td>\n",
       "      <td>8</td>\n",
       "      <td>Returning_Visitor</td>\n",
       "      <td>True</td>\n",
       "      <td>0</td>\n",
       "      <td>Fall</td>\n",
       "      <td>1</td>\n",
       "      <td>0</td>\n",
       "    </tr>\n",
       "    <tr>\n",
       "      <td>12327</td>\n",
       "      <td>0.0</td>\n",
       "      <td>0.0</td>\n",
       "      <td>0.0</td>\n",
       "      <td>0.0</td>\n",
       "      <td>6.0</td>\n",
       "      <td>184.250000</td>\n",
       "      <td>0.083333</td>\n",
       "      <td>0.086667</td>\n",
       "      <td>0.000000</td>\n",
       "      <td>0.0</td>\n",
       "      <td>...</td>\n",
       "      <td>3</td>\n",
       "      <td>2</td>\n",
       "      <td>1</td>\n",
       "      <td>13</td>\n",
       "      <td>Returning_Visitor</td>\n",
       "      <td>True</td>\n",
       "      <td>0</td>\n",
       "      <td>Fall</td>\n",
       "      <td>0</td>\n",
       "      <td>0</td>\n",
       "    </tr>\n",
       "    <tr>\n",
       "      <td>12328</td>\n",
       "      <td>4.0</td>\n",
       "      <td>75.0</td>\n",
       "      <td>0.0</td>\n",
       "      <td>0.0</td>\n",
       "      <td>15.0</td>\n",
       "      <td>346.000000</td>\n",
       "      <td>0.000000</td>\n",
       "      <td>0.021053</td>\n",
       "      <td>0.000000</td>\n",
       "      <td>0.0</td>\n",
       "      <td>...</td>\n",
       "      <td>2</td>\n",
       "      <td>2</td>\n",
       "      <td>3</td>\n",
       "      <td>11</td>\n",
       "      <td>Returning_Visitor</td>\n",
       "      <td>False</td>\n",
       "      <td>0</td>\n",
       "      <td>Fall</td>\n",
       "      <td>1</td>\n",
       "      <td>0</td>\n",
       "    </tr>\n",
       "    <tr>\n",
       "      <td>12329</td>\n",
       "      <td>0.0</td>\n",
       "      <td>0.0</td>\n",
       "      <td>0.0</td>\n",
       "      <td>0.0</td>\n",
       "      <td>3.0</td>\n",
       "      <td>21.250000</td>\n",
       "      <td>0.000000</td>\n",
       "      <td>0.066667</td>\n",
       "      <td>0.000000</td>\n",
       "      <td>0.0</td>\n",
       "      <td>...</td>\n",
       "      <td>3</td>\n",
       "      <td>2</td>\n",
       "      <td>1</td>\n",
       "      <td>2</td>\n",
       "      <td>New_Visitor</td>\n",
       "      <td>True</td>\n",
       "      <td>0</td>\n",
       "      <td>Fall</td>\n",
       "      <td>0</td>\n",
       "      <td>0</td>\n",
       "    </tr>\n",
       "  </tbody>\n",
       "</table>\n",
       "<p>12330 rows × 21 columns</p>\n",
       "</div>"
      ],
      "text/plain": [
       "       Administrative  Administrative_Duration  Informational  \\\n",
       "0                 0.0                      0.0            0.0   \n",
       "1                 0.0                      0.0            0.0   \n",
       "2                 0.0                      0.0            0.0   \n",
       "3                 0.0                      0.0            0.0   \n",
       "4                 0.0                      0.0            0.0   \n",
       "...               ...                      ...            ...   \n",
       "12325             3.0                    145.0            0.0   \n",
       "12326             0.0                      0.0            0.0   \n",
       "12327             0.0                      0.0            0.0   \n",
       "12328             4.0                     75.0            0.0   \n",
       "12329             0.0                      0.0            0.0   \n",
       "\n",
       "       Informational_Duration  ProductRelated  ProductRelated_Duration  \\\n",
       "0                         0.0             1.0                 0.000000   \n",
       "1                         0.0             2.0                64.000000   \n",
       "2                        -1.0             1.0                -1.000000   \n",
       "3                         0.0             2.0                 2.666667   \n",
       "4                         0.0            10.0               627.500000   \n",
       "...                       ...             ...                      ...   \n",
       "12325                     0.0            53.0              1783.791667   \n",
       "12326                     0.0             5.0               465.750000   \n",
       "12327                     0.0             6.0               184.250000   \n",
       "12328                     0.0            15.0               346.000000   \n",
       "12329                     0.0             3.0                21.250000   \n",
       "\n",
       "       BounceRates  ExitRates  PageValues  SpecialDay  ... OperatingSystems  \\\n",
       "0         0.200000   0.200000    0.000000         0.0  ...                1   \n",
       "1         0.000000   0.100000    0.000000         0.0  ...                2   \n",
       "2         0.200000   0.200000    0.000000         0.0  ...                4   \n",
       "3         0.050000   0.140000    0.000000         0.0  ...                3   \n",
       "4         0.020000   0.050000    0.000000         0.0  ...                3   \n",
       "...            ...        ...         ...         ...  ...              ...   \n",
       "12325     0.007143   0.029031   12.241717         0.0  ...                4   \n",
       "12326     0.000000   0.021333    0.000000         0.0  ...                3   \n",
       "12327     0.083333   0.086667    0.000000         0.0  ...                3   \n",
       "12328     0.000000   0.021053    0.000000         0.0  ...                2   \n",
       "12329     0.000000   0.066667    0.000000         0.0  ...                3   \n",
       "\n",
       "       Browser  Region TrafficType        VisitorType Weekend  Revenue  \\\n",
       "0            1       1           1  Returning_Visitor   False        0   \n",
       "1            2       1           2  Returning_Visitor   False        0   \n",
       "2            1       9           3  Returning_Visitor   False        0   \n",
       "3            2       2           4  Returning_Visitor   False        0   \n",
       "4            3       1           4  Returning_Visitor    True        0   \n",
       "...        ...     ...         ...                ...     ...      ...   \n",
       "12325        6       1           1  Returning_Visitor    True        0   \n",
       "12326        2       1           8  Returning_Visitor    True        0   \n",
       "12327        2       1          13  Returning_Visitor    True        0   \n",
       "12328        2       3          11  Returning_Visitor   False        0   \n",
       "12329        2       1           2        New_Visitor    True        0   \n",
       "\n",
       "       Season Product_Duration  Special  \n",
       "0      Winter                0        0  \n",
       "1      Winter                0        0  \n",
       "2      Winter                4        0  \n",
       "3      Winter                0        0  \n",
       "4      Winter                2        0  \n",
       "...       ...              ...      ...  \n",
       "12325    Fall                3        0  \n",
       "12326    Fall                1        0  \n",
       "12327    Fall                0        0  \n",
       "12328    Fall                1        0  \n",
       "12329    Fall                0        0  \n",
       "\n",
       "[12330 rows x 21 columns]"
      ]
     },
     "execution_count": 51,
     "metadata": {},
     "output_type": "execute_result"
    }
   ],
   "source": [
    "df"
   ]
  },
  {
   "cell_type": "markdown",
   "metadata": {},
   "source": [
    "We want to see if people make purchases closer to 'Special' holidays. Looking at the graph below it doesn't look like there is a difference between"
   ]
  },
  {
   "cell_type": "code",
   "execution_count": 52,
   "metadata": {},
   "outputs": [
    {
     "data": {
      "image/png": "[encoded data removed]",
      "text/plain": [
       "<Figure size 720x432 with 1 Axes>"
      ]
     },
     "metadata": {},
     "output_type": "display_data"
    }
   ],
   "source": [
    "plt.figure(figsize = (10,6))\n",
    "y = df.groupby(['Special']).Revenue.mean();\n",
    "x=y.index\n",
    "# y.plot.bar()\n",
    "sns.barplot(x,y, order=[0, 1])\n",
    "sns.set(style='dark', palette='tab10')\n",
    "plt.title('Special day and Proportion of Purchase', fontsize=20);\n",
    "plt.xlabel('Closeness to Special Day');\n",
    "plt.ylabel('Proportion of Purchases');\n",
    "# plt.suptitle(, fontsize=12)\n",
    "\n",
    "plt.savefig('specialday.png')"
   ]
  },
  {
   "cell_type": "markdown",
   "metadata": {},
   "source": [
    "## What can the duration of a Product Related duration tell us about purchasing?"
   ]
  },
  {
   "cell_type": "markdown",
   "metadata": {},
   "source": [
    "    H(null): Product_Duration(No Purchase) = Product_Duration(Purchased)\n",
    "    H(alternative): Product_Duration(No Purchase) != Product_Duration(Purchased)"
   ]
  },
  {
   "cell_type": "code",
   "execution_count": 53,
   "metadata": {},
   "outputs": [],
   "source": [
    "no_purchase = df[df['Revenue']==0]\n",
    "purchase = df[df['Revenue']==1]"
   ]
  },
  {
   "cell_type": "code",
   "execution_count": 54,
   "metadata": {},
   "outputs": [
    {
     "data": {
      "text/plain": [
       "Ttest_indResult(statistic=-17.119410994153583, pvalue=5.9771839981114085e-65)"
      ]
     },
     "execution_count": 54,
     "metadata": {},
     "output_type": "execute_result"
    }
   ],
   "source": [
    "stats.ttest_ind(no_purchase['ProductRelated_Duration'], purchase['ProductRelated_Duration'])"
   ]
  },
  {
   "cell_type": "markdown",
   "metadata": {},
   "source": [
    "#### We can reject null hypothesis and say that there is a significant difference between the duration of a product related page between people who purchased a product than those who did not"
   ]
  },
  {
   "cell_type": "code",
   "execution_count": 55,
   "metadata": {},
   "outputs": [
    {
     "data": {
      "image/png": "[encoded data removed]",
      "text/plain": [
       "<Figure size 1152x576 with 1 Axes>"
      ]
     },
     "metadata": {},
     "output_type": "display_data"
    }
   ],
   "source": [
    "plt.figure(figsize = (16,8))\n",
    "sns.boxplot(df['Revenue'], df['ProductRelated_Duration'], data = df)\n",
    "plt.title(\"Time on Site by Visitor Type\", fontsize = 16)\n",
    "plt.xlabel(\"Visitor Type\", fontsize = 16)\n",
    "plt.ylabel(\"Total Time on Site (seconds)\", fontsize = 16)\n",
    "plt.ylim(10, 10000);"
   ]
  },
  {
   "cell_type": "markdown",
   "metadata": {},
   "source": [
    "## Does browser affect Bounce Rates?"
   ]
  },
  {
   "cell_type": "markdown",
   "metadata": {},
   "source": [
    "    Looks like from the graph below that browsers 3, and 12 have the higest bounce rates meaning there may be something with the UI design "
   ]
  },
  {
   "cell_type": "code",
   "execution_count": 56,
   "metadata": {},
   "outputs": [
    {
     "data": {
      "image/png": "[encoded data removed]",
      "text/plain": [
       "<Figure size 1152x576 with 1 Axes>"
      ]
     },
     "metadata": {},
     "output_type": "display_data"
    }
   ],
   "source": [
    "plt.figure(figsize = (16,8))\n",
    "sns.boxplot(df['Browser'], df['BounceRates'], data = df)\n",
    "plt.title(\"Bounce Rates by Browser Type\", fontsize = 16)\n",
    "plt.xlabel(\"Browser\", fontsize = 16)\n",
    "plt.ylabel(\"Bounce Rate\", fontsize = 16);\n",
    "# plt.ylim(10);\n",
    "\n",
    "plt.savefig('bounce_browser.png')"
   ]
  },
  {
   "cell_type": "code",
   "execution_count": null,
   "metadata": {},
   "outputs": [],
   "source": [
    "plt.figure(figsize = (10,6))\n",
    "sns.barplot(df.Browser, df.groupby('Browser').Revenue.mean(), ci=None)\n",
    "plt.title(\"Proportion of Completed Purchases by Browser Type\", fontsize = 16)\n",
    "plt.xlabel(\"Browser\", fontsize = 16)\n",
    "plt.ylabel(\"Completed Purchases Ratio\", fontsize = 16);"
   ]
  },
  {
   "cell_type": "code",
   "execution_count": null,
   "metadata": {
    "scrolled": false
   },
   "outputs": [],
   "source": [
    "df_b = pd.crosstab(df.Browser, df.Revenue)\n",
    "df_b.plot(kind = 'bar')\n",
    "plt.show()"
   ]
  },
  {
   "cell_type": "code",
   "execution_count": null,
   "metadata": {},
   "outputs": [],
   "source": [
    "df.Revenue.value_counts(normalize=True)"
   ]
  },
  {
   "cell_type": "code",
   "execution_count": null,
   "metadata": {},
   "outputs": [],
   "source": [
    "plt.rcParams['figure.figsize'] = (18, 15)\n",
    "\n",
    "plt.subplot(2, 2, 1)\n",
    "sns.boxenplot(df['Revenue'], df['Informational_Duration'], palette = 'rainbow')\n",
    "plt.title('Info. duration vs Revenue', fontsize = 30)\n",
    "plt.xlabel('Info. duration', fontsize = 15)\n",
    "plt.ylabel('Revenue', fontsize = 15)\n",
    "\n",
    "# product related duration vs revenue\n",
    "\n",
    "plt.subplot(2, 2, 2)\n",
    "sns.boxenplot(df['Revenue'], df['Administrative_Duration'], palette = 'pastel')\n",
    "plt.title('Admn. duration vs Revenue', fontsize = 30)\n",
    "plt.xlabel('Admn. duration', fontsize = 15)\n",
    "plt.ylabel('Revenue', fontsize = 15)\n",
    "\n",
    "# product related duration vs revenue\n",
    "\n",
    "plt.subplot(2, 2, 3)\n",
    "sns.boxenplot(df['Revenue'], df['ProductRelated_Duration'], palette = 'dark')\n",
    "plt.title('Product Related duration vs Revenue', fontsize = 30)\n",
    "plt.xlabel('Product Related duration', fontsize = 15)\n",
    "plt.ylabel('Revenue', fontsize = 15)\n",
    "\n",
    "# exit rate vs revenue\n",
    "\n",
    "plt.subplot(2, 2, 4)\n",
    "sns.boxenplot(df['Revenue'], df['ExitRates'], palette = 'spring')\n",
    "plt.title('ExitRates vs Revenue', fontsize = 30)\n",
    "plt.xlabel('ExitRates', fontsize = 15)\n",
    "plt.ylabel('Revenue', fontsize = 15)\n",
    "\n",
    "\n",
    "plt.show()"
   ]
  },
  {
   "cell_type": "code",
   "execution_count": null,
   "metadata": {},
   "outputs": [],
   "source": []
  }
 ],
 "metadata": {
  "kernelspec": {
   "display_name": "Python 3",
   "language": "python",
   "name": "python3"
  },
  "language_info": {
   "codemirror_mode": {
    "name": "ipython",
    "version": 3
   },
   "file_extension": ".py",
   "mimetype": "text/x-python",
   "name": "python",
   "nbconvert_exporter": "python",
   "pygments_lexer": "ipython3",
   "version": "3.7.4"
  }
 },
 "nbformat": 4,
 "nbformat_minor": 4
}
